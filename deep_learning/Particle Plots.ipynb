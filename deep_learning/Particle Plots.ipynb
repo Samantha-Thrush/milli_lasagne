{
 "cells": [
  {
   "cell_type": "markdown",
   "metadata": {},
   "source": [
    "This is a simple notebook that has some plots of the particle trajectories in a simulation. "
   ]
  },
  {
   "cell_type": "code",
   "execution_count": 1,
   "metadata": {
    "collapsed": false
   },
   "outputs": [],
   "source": [
    "path = \"/notebooks/ml-sims/data/nanoparticle/\"\n",
    "#have to load in the whole array from the start anyway\n",
    "import h5py\n",
    "import numpy as np\n",
    "from pylearn2.utils import serial\n",
    "totParticles = 262144\n",
    "\n",
    "nParticles = 5\n",
    "\n",
    "trainingFrac = .8\n",
    "validFrac= .1\n",
    "\n",
    "#sl = np.s_[:nParticles, :]\n",
    "sl = np.s_[int(totParticles*(trainingFrac+validFrac)):int(totParticles*(trainingFrac+validFrac))+nParticles, :]\n",
    "\n",
    "X = np.zeros((100, nParticles*6))\n",
    "y = np.zeros((100, nParticles*3))\n",
    "\n",
    "absMinVel, absMaxVel = 0,0\n",
    "maxCoord= 10000 #particles in a 0-10000 cube"
   ]
  },
  {
   "cell_type": "code",
   "execution_count": 2,
   "metadata": {
    "collapsed": true
   },
   "outputs": [],
   "source": [
    "def getFilename(i):\n",
    "    base = path+'snapshot_'\n",
    "    if i<10:\n",
    "        out= base+'00%d.hdf5'%i\n",
    "    elif i<100:\n",
    "        out= base+'0%d.hdf5'%i\n",
    "    else:\n",
    "        out= base+'%d.hdf5'%i\n",
    "    return serial.preprocess(out)"
   ]
  },
  {
   "cell_type": "code",
   "execution_count": 3,
   "metadata": {
    "collapsed": false
   },
   "outputs": [],
   "source": [
    "for i in xrange(101):\n",
    "    fname = getFilename(i)\n",
    "    f = h5py.File(fname, 'r')\n",
    "    ids = f['PartType1']['ParticleIDs'][()]\n",
    "    sorter = ids.argsort()\n",
    "\n",
    "    coords = f['PartType1']['Coordinates'][()]\n",
    "    coords = coords[sorter]#sort by ids\n",
    "\n",
    "    #normalize\n",
    "    #coordinates are all >=0, so just divide by max\n",
    "    #coords/=maxCoord\n",
    "\n",
    "    #from matplotlib import pyplot as plt\n",
    "    #plt.scatter(coords[0, 0], coords[0,1], c = colors[i%len(colors)])\n",
    "\n",
    "    coords = coords[sl]\n",
    "\n",
    "    if i!=0:\n",
    "        y[i-1,:] = coords.flatten()\n",
    "\n",
    "    if i!=100:\n",
    "        vels = f['PartType1']['Velocities'][()]\n",
    "        vels = vels[sorter]\n",
    "\n",
    "        minVel, maxVel = vels.min(), vels.max()\n",
    "        if minVel < absMinVel:\n",
    "            absMinVel = minVel\n",
    "\n",
    "        if maxVel > absMaxVel:\n",
    "            absMaxVel = maxVel\n",
    "\n",
    "        vels = vels[sl]\n",
    "        data = np.concatenate((coords, vels), axis = 1).flatten()\n",
    "\n",
    "        X[i,:] = data\n",
    "        del data\n",
    "\n",
    "    del coords\n",
    "    f.close()"
   ]
  },
  {
   "cell_type": "code",
   "execution_count": 4,
   "metadata": {
    "collapsed": false
   },
   "outputs": [],
   "source": [
    "#normalize the velocity columns\n",
    "#for n in xrange(nParticles):\n",
    "#    for col in xrange(3):\n",
    "#        X[:, n*6+3+col] = (X[:, n*6+3+col])/max(abs(absMinVel), abs(absMaxVel))"
   ]
  },
  {
   "cell_type": "code",
   "execution_count": 5,
   "metadata": {
    "collapsed": true
   },
   "outputs": [],
   "source": [
    "from matplotlib import pyplot as plt\n",
    "%matplotlib inline\n",
    "import seaborn as sns\n",
    "sns.set()"
   ]
  },
  {
   "cell_type": "code",
   "execution_count": 6,
   "metadata": {
    "collapsed": false
   },
   "outputs": [
    {
     "name": "stdout",
     "output_type": "stream",
     "text": [
      "8439.17089844 6160.12207031\n",
      "-38.5701599121 21.9826869965\n"
     ]
    },
    {
     "data": {
      "image/png": "[encoded data removed]",
      "text/plain": [
       "<matplotlib.figure.Figure at 0x7fdcb33f2650>"
      ]
     },
     "metadata": {},
     "output_type": "display_data"
    }
   ],
   "source": [
    "pNo = 0\n",
    "plt.title('x and y of a particle')\n",
    "plt.scatter(X[:,pNo*6+0], X[:,pNo*6+1])\n",
    "for i in xrange(100):\n",
    "    plt.arrow(X[i,pNo*6+0],X[i,pNo*6+1],X[i,pNo*6+3],X[i,pNo*6+4], head_width = 2, head_length = 50)\n",
    "\n",
    "print X[i,0],X[i,1]\n",
    "print X[i,3],X[i,4]\n",
    "plt.show()"
   ]
  },
  {
   "cell_type": "code",
   "execution_count": 7,
   "metadata": {
    "collapsed": false
   },
   "outputs": [
    {
     "ename": "IOError",
     "evalue": "[Errno 2] No such file or directory: '/home/mclaughlin6464/GitRepos/pylearn2/pylearn2/myStuff/train_err'",
     "output_type": "error",
     "traceback": [
      "\u001b[1;31m---------------------------------------------------------------------------\u001b[0m",
      "\u001b[1;31mIOError\u001b[0m                                   Traceback (most recent call last)",
      "\u001b[1;32m<ipython-input-7-52386627cfc7>\u001b[0m in \u001b[0;36m<module>\u001b[1;34m()\u001b[0m\n\u001b[0;32m      4\u001b[0m \u001b[0merrs\u001b[0m \u001b[1;33m=\u001b[0m \u001b[1;33m{\u001b[0m\u001b[1;33m}\u001b[0m\u001b[1;33m\u001b[0m\u001b[0m\n\u001b[0;32m      5\u001b[0m \u001b[1;32mfor\u001b[0m \u001b[0mc\u001b[0m\u001b[1;33m,\u001b[0m \u001b[0mname\u001b[0m \u001b[1;32min\u001b[0m \u001b[0mzip\u001b[0m\u001b[1;33m(\u001b[0m\u001b[0mcolors\u001b[0m\u001b[1;33m,\u001b[0m\u001b[0mnames\u001b[0m\u001b[1;33m)\u001b[0m\u001b[1;33m:\u001b[0m\u001b[1;33m\u001b[0m\u001b[0m\n\u001b[1;32m----> 6\u001b[1;33m     \u001b[0merrs\u001b[0m\u001b[1;33m[\u001b[0m\u001b[0mname\u001b[0m\u001b[1;33m]\u001b[0m \u001b[1;33m=\u001b[0m \u001b[0mnp\u001b[0m\u001b[1;33m.\u001b[0m\u001b[0mloadtxt\u001b[0m\u001b[1;33m(\u001b[0m\u001b[0mpath\u001b[0m\u001b[1;33m+\u001b[0m\u001b[0mname\u001b[0m\u001b[1;33m,\u001b[0m \u001b[0mdelimiter\u001b[0m \u001b[1;33m=\u001b[0m \u001b[1;34m','\u001b[0m\u001b[1;33m)\u001b[0m\u001b[1;33m\u001b[0m\u001b[0m\n\u001b[0m\u001b[0;32m      7\u001b[0m \u001b[1;33m\u001b[0m\u001b[0m\n\u001b[0;32m      8\u001b[0m     \u001b[0mplt\u001b[0m\u001b[1;33m.\u001b[0m\u001b[0mplot\u001b[0m\u001b[1;33m(\u001b[0m\u001b[0merrs\u001b[0m\u001b[1;33m[\u001b[0m\u001b[0mname\u001b[0m\u001b[1;33m]\u001b[0m\u001b[1;33m,\u001b[0m \u001b[0mcolor\u001b[0m \u001b[1;33m=\u001b[0m \u001b[0mc\u001b[0m\u001b[1;33m,\u001b[0m \u001b[0mlabel\u001b[0m \u001b[1;33m=\u001b[0m \u001b[0mname\u001b[0m\u001b[1;33m)\u001b[0m\u001b[1;33m\u001b[0m\u001b[0m\n",
      "\u001b[1;32m/usr/local/lib/python2.7/dist-packages/numpy/lib/npyio.pyc\u001b[0m in \u001b[0;36mloadtxt\u001b[1;34m(fname, dtype, comments, delimiter, converters, skiprows, usecols, unpack, ndmin)\u001b[0m\n\u001b[0;32m    735\u001b[0m                 \u001b[0mfh\u001b[0m \u001b[1;33m=\u001b[0m \u001b[0miter\u001b[0m\u001b[1;33m(\u001b[0m\u001b[0mbz2\u001b[0m\u001b[1;33m.\u001b[0m\u001b[0mBZ2File\u001b[0m\u001b[1;33m(\u001b[0m\u001b[0mfname\u001b[0m\u001b[1;33m)\u001b[0m\u001b[1;33m)\u001b[0m\u001b[1;33m\u001b[0m\u001b[0m\n\u001b[0;32m    736\u001b[0m             \u001b[1;32melif\u001b[0m \u001b[0msys\u001b[0m\u001b[1;33m.\u001b[0m\u001b[0mversion_info\u001b[0m\u001b[1;33m[\u001b[0m\u001b[1;36m0\u001b[0m\u001b[1;33m]\u001b[0m \u001b[1;33m==\u001b[0m \u001b[1;36m2\u001b[0m\u001b[1;33m:\u001b[0m\u001b[1;33m\u001b[0m\u001b[0m\n\u001b[1;32m--> 737\u001b[1;33m                 \u001b[0mfh\u001b[0m \u001b[1;33m=\u001b[0m \u001b[0miter\u001b[0m\u001b[1;33m(\u001b[0m\u001b[0mopen\u001b[0m\u001b[1;33m(\u001b[0m\u001b[0mfname\u001b[0m\u001b[1;33m,\u001b[0m \u001b[1;34m'U'\u001b[0m\u001b[1;33m)\u001b[0m\u001b[1;33m)\u001b[0m\u001b[1;33m\u001b[0m\u001b[0m\n\u001b[0m\u001b[0;32m    738\u001b[0m             \u001b[1;32melse\u001b[0m\u001b[1;33m:\u001b[0m\u001b[1;33m\u001b[0m\u001b[0m\n\u001b[0;32m    739\u001b[0m                 \u001b[0mfh\u001b[0m \u001b[1;33m=\u001b[0m \u001b[0miter\u001b[0m\u001b[1;33m(\u001b[0m\u001b[0mopen\u001b[0m\u001b[1;33m(\u001b[0m\u001b[0mfname\u001b[0m\u001b[1;33m)\u001b[0m\u001b[1;33m)\u001b[0m\u001b[1;33m\u001b[0m\u001b[0m\n",
      "\u001b[1;31mIOError\u001b[0m: [Errno 2] No such file or directory: '/home/mclaughlin6464/GitRepos/pylearn2/pylearn2/myStuff/train_err'"
     ]
    }
   ],
   "source": [
    "path = '/home/mclaughlin6464/GitRepos/pylearn2/pylearn2/myStuff/'\n",
    "names = ['train_err', 'valid_err', 'test_err']\n",
    "colors = ['b', 'g', 'r']\n",
    "errs = {}\n",
    "for c, name in zip(colors,names):\n",
    "    errs[name] = np.loadtxt(path+name, delimiter = ',')\n",
    "    \n",
    "    plt.plot(errs[name], color = c, label = name)\n",
    "    \n",
    "plt.title('1000 Particles and 1000 Hidden Units')\n",
    "plt.legend()\n",
    "plt.show()"
   ]
  },
  {
   "cell_type": "code",
   "execution_count": null,
   "metadata": {
    "collapsed": true
   },
   "outputs": [],
   "source": []
  }
 ],
 "metadata": {
  "kernelspec": {
   "display_name": "Python 2",
   "language": "python",
   "name": "python2"
  },
  "language_info": {
   "codemirror_mode": {
    "name": "ipython",
    "version": 2
   },
   "file_extension": ".py",
   "mimetype": "text/x-python",
   "name": "python",
   "nbconvert_exporter": "python",
   "pygments_lexer": "ipython2",
   "version": "2.7.6"
  }
 },
 "nbformat": 4,
 "nbformat_minor": 0
}
